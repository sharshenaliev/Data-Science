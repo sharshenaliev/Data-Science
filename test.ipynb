{
 "cells": [
  {
   "cell_type": "code",
   "execution_count": null,
   "metadata": {},
   "outputs": [],
   "source": [
    "pip install scikit-learn"
   ]
  },
  {
   "cell_type": "code",
   "execution_count": 7,
   "metadata": {},
   "outputs": [],
   "source": [
    "import numpy as np\n",
    "import pandas as pd\n",
    "from sklearn.model_selection import train_test_split\n",
    "from sklearn.linear_model import LinearRegression"
   ]
  },
  {
   "cell_type": "code",
   "execution_count": 3,
   "metadata": {},
   "outputs": [
    {
     "data": {
      "text/html": [
       "<div>\n",
       "<style scoped>\n",
       "    .dataframe tbody tr th:only-of-type {\n",
       "        vertical-align: middle;\n",
       "    }\n",
       "\n",
       "    .dataframe tbody tr th {\n",
       "        vertical-align: top;\n",
       "    }\n",
       "\n",
       "    .dataframe thead th {\n",
       "        text-align: right;\n",
       "    }\n",
       "</style>\n",
       "<table border=\"1\" class=\"dataframe\">\n",
       "  <thead>\n",
       "    <tr style=\"text-align: right;\">\n",
       "      <th></th>\n",
       "      <th>sotok</th>\n",
       "      <th>summa</th>\n",
       "      <th>keys</th>\n",
       "      <th>url</th>\n",
       "      <th>text</th>\n",
       "    </tr>\n",
       "  </thead>\n",
       "  <tbody>\n",
       "    <tr>\n",
       "      <th>0</th>\n",
       "      <td>6</td>\n",
       "      <td>50000</td>\n",
       "      <td>['/4-bedrooms'. '/owner'. '/yes']</td>\n",
       "      <td>https://lalafo.kg/bishkek/ads/ak-ordo-rajon-le...</td>\n",
       "      <td>NaN</td>\n",
       "    </tr>\n",
       "    <tr>\n",
       "      <th>1</th>\n",
       "      <td>50</td>\n",
       "      <td>20000</td>\n",
       "      <td>['/15-bedrooms'. '/owner'. '/yes']</td>\n",
       "      <td>https://lalafo.kg/bishkek/ads/-id-83798513</td>\n",
       "      <td>Ассалом алейкум туугандар.Нарын об.Кочкор рн.К...</td>\n",
       "    </tr>\n",
       "    <tr>\n",
       "      <th>2</th>\n",
       "      <td>13</td>\n",
       "      <td>50000</td>\n",
       "      <td>['/sokuluk'. '/yes']</td>\n",
       "      <td>https://lalafo.kg/bishkek/ads/-id-81920623</td>\n",
       "      <td>Прадаю дом сокулукскии раион село Орок участок...</td>\n",
       "    </tr>\n",
       "    <tr>\n",
       "      <th>3</th>\n",
       "      <td>15</td>\n",
       "      <td>70000</td>\n",
       "      <td>['/4-bedrooms'. '/novopavlovka'. '/owner']</td>\n",
       "      <td>https://lalafo.kg/bishkek/ads/prodaem-domselo-...</td>\n",
       "      <td>NaN</td>\n",
       "    </tr>\n",
       "    <tr>\n",
       "      <th>4</th>\n",
       "      <td>13</td>\n",
       "      <td>17000</td>\n",
       "      <td>['/2-bedrooms'. '/no'. '/owner'. '/sadovoe']</td>\n",
       "      <td>https://lalafo.kg/bishkek/ads/prodaetsa-dom-se...</td>\n",
       "      <td>NaN</td>\n",
       "    </tr>\n",
       "    <tr>\n",
       "      <th>...</th>\n",
       "      <td>...</td>\n",
       "      <td>...</td>\n",
       "      <td>...</td>\n",
       "      <td>...</td>\n",
       "      <td>...</td>\n",
       "    </tr>\n",
       "    <tr>\n",
       "      <th>1002</th>\n",
       "      <td>7</td>\n",
       "      <td>25000</td>\n",
       "      <td>['/4-bedrooms'. '/no'. '/owner']</td>\n",
       "      <td>https://lalafo.kg/bishkek/ads/-id-64434406</td>\n",
       "      <td>Срочно продаю дом в Чолпон ате .Дом находиться...</td>\n",
       "    </tr>\n",
       "    <tr>\n",
       "      <th>1003</th>\n",
       "      <td>7</td>\n",
       "      <td>45000</td>\n",
       "      <td>['/5-bedrooms'. '/novo-pokrovka'. '/owner'. '/...</td>\n",
       "      <td>https://lalafo.kg/bishkek/ads/-id-82649090</td>\n",
       "      <td>Срочно продаю дом в селе Новопокровка близко к...</td>\n",
       "    </tr>\n",
       "    <tr>\n",
       "      <th>1004</th>\n",
       "      <td>10</td>\n",
       "      <td>15000</td>\n",
       "      <td>['/3-bedrooms'. '/no'. '/owner']</td>\n",
       "      <td>https://lalafo.kg/bishkek/ads/-id-70293624</td>\n",
       "      <td>Срочно срочно Продается 3 ком дом все условия ...</td>\n",
       "    </tr>\n",
       "    <tr>\n",
       "      <th>1005</th>\n",
       "      <td>9</td>\n",
       "      <td>26000</td>\n",
       "      <td>['/7-bedrooms'. '/ak-bata'. '/ak-bosogo'. '/ak...</td>\n",
       "      <td>https://lalafo.kg/bishkek/ads/-id-73226075</td>\n",
       "      <td>Ысык-Кол област Балыкчы шаарынын эски плаж жак...</td>\n",
       "    </tr>\n",
       "    <tr>\n",
       "      <th>1006</th>\n",
       "      <td>10</td>\n",
       "      <td>50000</td>\n",
       "      <td>['/5-bedrooms'. '/dzhal'. '/no'. '/owner']</td>\n",
       "      <td>https://lalafo.kg/bishkek/ads/-id-83529485</td>\n",
       "      <td>Здравствуйте. Продается дом 10 сотых 6-комнат ...</td>\n",
       "    </tr>\n",
       "  </tbody>\n",
       "</table>\n",
       "<p>1007 rows × 5 columns</p>\n",
       "</div>"
      ],
      "text/plain": [
       "      sotok  summa                                               keys  \\\n",
       "0         6  50000                  ['/4-bedrooms'. '/owner'. '/yes']   \n",
       "1        50  20000                 ['/15-bedrooms'. '/owner'. '/yes']   \n",
       "2        13  50000                               ['/sokuluk'. '/yes']   \n",
       "3        15  70000         ['/4-bedrooms'. '/novopavlovka'. '/owner']   \n",
       "4        13  17000       ['/2-bedrooms'. '/no'. '/owner'. '/sadovoe']   \n",
       "...     ...    ...                                                ...   \n",
       "1002      7  25000                   ['/4-bedrooms'. '/no'. '/owner']   \n",
       "1003      7  45000  ['/5-bedrooms'. '/novo-pokrovka'. '/owner'. '/...   \n",
       "1004     10  15000                   ['/3-bedrooms'. '/no'. '/owner']   \n",
       "1005      9  26000  ['/7-bedrooms'. '/ak-bata'. '/ak-bosogo'. '/ak...   \n",
       "1006     10  50000         ['/5-bedrooms'. '/dzhal'. '/no'. '/owner']   \n",
       "\n",
       "                                                    url  \\\n",
       "0     https://lalafo.kg/bishkek/ads/ak-ordo-rajon-le...   \n",
       "1            https://lalafo.kg/bishkek/ads/-id-83798513   \n",
       "2            https://lalafo.kg/bishkek/ads/-id-81920623   \n",
       "3     https://lalafo.kg/bishkek/ads/prodaem-domselo-...   \n",
       "4     https://lalafo.kg/bishkek/ads/prodaetsa-dom-se...   \n",
       "...                                                 ...   \n",
       "1002         https://lalafo.kg/bishkek/ads/-id-64434406   \n",
       "1003         https://lalafo.kg/bishkek/ads/-id-82649090   \n",
       "1004         https://lalafo.kg/bishkek/ads/-id-70293624   \n",
       "1005         https://lalafo.kg/bishkek/ads/-id-73226075   \n",
       "1006         https://lalafo.kg/bishkek/ads/-id-83529485   \n",
       "\n",
       "                                                   text  \n",
       "0                                                   NaN  \n",
       "1     Ассалом алейкум туугандар.Нарын об.Кочкор рн.К...  \n",
       "2     Прадаю дом сокулукскии раион село Орок участок...  \n",
       "3                                                   NaN  \n",
       "4                                                   NaN  \n",
       "...                                                 ...  \n",
       "1002  Срочно продаю дом в Чолпон ате .Дом находиться...  \n",
       "1003  Срочно продаю дом в селе Новопокровка близко к...  \n",
       "1004  Срочно срочно Продается 3 ком дом все условия ...  \n",
       "1005  Ысык-Кол област Балыкчы шаарынын эски плаж жак...  \n",
       "1006  Здравствуйте. Продается дом 10 сотых 6-комнат ...  \n",
       "\n",
       "[1007 rows x 5 columns]"
      ]
     },
     "execution_count": 3,
     "metadata": {},
     "output_type": "execute_result"
    }
   ],
   "source": [
    "df = pd.read_csv('data.csv')\n",
    "df"
   ]
  },
  {
   "cell_type": "code",
   "execution_count": 4,
   "metadata": {},
   "outputs": [],
   "source": [
    "not_useful = ['keys', 'url', 'text']\n",
    "df = df.drop(not_useful, axis =1)"
   ]
  },
  {
   "cell_type": "code",
   "execution_count": 5,
   "metadata": {},
   "outputs": [
    {
     "name": "stdout",
     "output_type": "stream",
     "text": [
      "sotok    0\n",
      "summa    0\n",
      "dtype: int64\n"
     ]
    }
   ],
   "source": [
    "#check nulls\n",
    "print(df.isnull().sum())"
   ]
  },
  {
   "cell_type": "code",
   "execution_count": 6,
   "metadata": {},
   "outputs": [
    {
     "data": {
      "text/html": [
       "<div>\n",
       "<style scoped>\n",
       "    .dataframe tbody tr th:only-of-type {\n",
       "        vertical-align: middle;\n",
       "    }\n",
       "\n",
       "    .dataframe tbody tr th {\n",
       "        vertical-align: top;\n",
       "    }\n",
       "\n",
       "    .dataframe thead th {\n",
       "        text-align: right;\n",
       "    }\n",
       "</style>\n",
       "<table border=\"1\" class=\"dataframe\">\n",
       "  <thead>\n",
       "    <tr style=\"text-align: right;\">\n",
       "      <th></th>\n",
       "      <th>sotok</th>\n",
       "      <th>summa</th>\n",
       "    </tr>\n",
       "  </thead>\n",
       "  <tbody>\n",
       "    <tr>\n",
       "      <th>0</th>\n",
       "      <td>6</td>\n",
       "      <td>50000</td>\n",
       "    </tr>\n",
       "    <tr>\n",
       "      <th>1</th>\n",
       "      <td>50</td>\n",
       "      <td>20000</td>\n",
       "    </tr>\n",
       "    <tr>\n",
       "      <th>2</th>\n",
       "      <td>13</td>\n",
       "      <td>50000</td>\n",
       "    </tr>\n",
       "    <tr>\n",
       "      <th>3</th>\n",
       "      <td>15</td>\n",
       "      <td>70000</td>\n",
       "    </tr>\n",
       "    <tr>\n",
       "      <th>4</th>\n",
       "      <td>13</td>\n",
       "      <td>17000</td>\n",
       "    </tr>\n",
       "    <tr>\n",
       "      <th>...</th>\n",
       "      <td>...</td>\n",
       "      <td>...</td>\n",
       "    </tr>\n",
       "    <tr>\n",
       "      <th>1002</th>\n",
       "      <td>7</td>\n",
       "      <td>25000</td>\n",
       "    </tr>\n",
       "    <tr>\n",
       "      <th>1003</th>\n",
       "      <td>7</td>\n",
       "      <td>45000</td>\n",
       "    </tr>\n",
       "    <tr>\n",
       "      <th>1004</th>\n",
       "      <td>10</td>\n",
       "      <td>15000</td>\n",
       "    </tr>\n",
       "    <tr>\n",
       "      <th>1005</th>\n",
       "      <td>9</td>\n",
       "      <td>26000</td>\n",
       "    </tr>\n",
       "    <tr>\n",
       "      <th>1006</th>\n",
       "      <td>10</td>\n",
       "      <td>50000</td>\n",
       "    </tr>\n",
       "  </tbody>\n",
       "</table>\n",
       "<p>1007 rows × 2 columns</p>\n",
       "</div>"
      ],
      "text/plain": [
       "      sotok  summa\n",
       "0         6  50000\n",
       "1        50  20000\n",
       "2        13  50000\n",
       "3        15  70000\n",
       "4        13  17000\n",
       "...     ...    ...\n",
       "1002      7  25000\n",
       "1003      7  45000\n",
       "1004     10  15000\n",
       "1005      9  26000\n",
       "1006     10  50000\n",
       "\n",
       "[1007 rows x 2 columns]"
      ]
     },
     "execution_count": 6,
     "metadata": {},
     "output_type": "execute_result"
    }
   ],
   "source": [
    "df"
   ]
  },
  {
   "cell_type": "code",
   "execution_count": 8,
   "metadata": {},
   "outputs": [],
   "source": [
    "array = df['summa'].to_numpy()"
   ]
  },
  {
   "cell_type": "code",
   "execution_count": 9,
   "metadata": {},
   "outputs": [],
   "source": [
    "array = array.astype(int)"
   ]
  },
  {
   "cell_type": "code",
   "execution_count": 10,
   "metadata": {},
   "outputs": [],
   "source": [
    "df['price'] = array.tolist()"
   ]
  },
  {
   "cell_type": "code",
   "execution_count": 11,
   "metadata": {},
   "outputs": [],
   "source": [
    "x = df.copy()\n",
    "y = x.pop('price')"
   ]
  },
  {
   "cell_type": "code",
   "execution_count": 13,
   "metadata": {},
   "outputs": [],
   "source": [
    "x_train, x_test, y_train, y_test  = train_test_split(x, y, test_size = 0.5)"
   ]
  },
  {
   "cell_type": "code",
   "execution_count": 15,
   "metadata": {},
   "outputs": [
    {
     "name": "stdout",
     "output_type": "stream",
     "text": [
      "Linear Regression Score on the Train data =  1.0\n",
      "Linear Regression Score on the Test data =  1.0\n"
     ]
    }
   ],
   "source": [
    "modelogr = LinearRegression()\n",
    "modelogr.fit(x_train, y_train)\n",
    "print('Linear Regression Score on the Train data = ',modelogr.score(x_train, y_train)) \n",
    "print('Linear Regression Score on the Test data = ',modelogr.score(x_test, y_test))"
   ]
  }
 ],
 "metadata": {
  "kernelspec": {
   "display_name": "Python 3",
   "language": "python",
   "name": "python3"
  },
  "language_info": {
   "codemirror_mode": {
    "name": "ipython",
    "version": 3
   },
   "file_extension": ".py",
   "mimetype": "text/x-python",
   "name": "python",
   "nbconvert_exporter": "python",
   "pygments_lexer": "ipython3",
   "version": "3.10.9"
  },
  "orig_nbformat": 4
 },
 "nbformat": 4,
 "nbformat_minor": 2
}
